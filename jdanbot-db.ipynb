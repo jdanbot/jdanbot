{
 "cells": [
  {
   "cell_type": "code",
   "execution_count": 2,
   "metadata": {},
   "outputs": [],
   "source": [
    "from bot.schemas import chat_member\n",
    "import importlib\n",
    "importlib.reload(chat_member)\n",
    "\n",
    "from tests.mocks import MessageMock, UserMock\n",
    "\n"
   ]
  },
  {
   "cell_type": "code",
   "execution_count": null,
   "metadata": {},
   "outputs": [],
   "source": [
    "from bot.schemas import db_setup\n",
    "\n",
    "db_setup()"
   ]
  },
  {
   "cell_type": "code",
   "execution_count": 4,
   "metadata": {},
   "outputs": [
    {
     "data": {
      "text/plain": [
       "((3, [<Warn: 1>, <Warn: 2>, <Warn: 3>]),\n",
       " (3, [<Warn: 1>, <Warn: 2>, <Warn: 3>]))"
      ]
     },
     "execution_count": 4,
     "metadata": {},
     "output_type": "execute_result"
    }
   ],
   "source": [
    "member = chat_member.ChatMember.get_by_message(MessageMock(\n",
    "    from_user=UserMock(\n",
    "        first_name=\"test\",\n",
    "    ),\n",
    "    text=\"test\"\n",
    "))\n",
    "\n",
    "(member.warn_counter, member.warns), (member.all_warn_counter, member.all_warns)"
   ]
  },
  {
   "cell_type": "code",
   "execution_count": null,
   "metadata": {},
   "outputs": [],
   "source": [
    "admin = chat_member.ChatMember.get_by_message(MessageMock(\n",
    "    from_user=UserMock(\n",
    "        id=1,\n",
    "        first_name=\"test2\",\n",
    "    ),\n",
    "    text=\"test2\"\n",
    "))\n",
    "\n",
    "member.warn_by(admin, \"test\")"
   ]
  }
 ],
 "metadata": {
  "kernelspec": {
   "display_name": "Python 3.10.7 ('.venv': poetry)",
   "language": "python",
   "name": "python3"
  },
  "language_info": {
   "codemirror_mode": {
    "name": "ipython",
    "version": 3
   },
   "file_extension": ".py",
   "mimetype": "text/x-python",
   "name": "python",
   "nbconvert_exporter": "python",
   "pygments_lexer": "ipython3",
   "version": "3.10.7"
  },
  "orig_nbformat": 4,
  "vscode": {
   "interpreter": {
    "hash": "0aa14f6a2562ad1cdce8e3540ae3af3d30246e53760782fcbafa6593001d3a2c"
   }
  }
 },
 "nbformat": 4,
 "nbformat_minor": 2
}
